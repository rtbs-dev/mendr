{
 "cells": [
  {
   "cell_type": "code",
   "execution_count": null,
   "id": "ebd1cf37-fc8f-4081-b067-dd3f1852b38f",
   "metadata": {},
   "outputs": [],
   "source": [
    "from scipy.stats import bernoulli\n",
    "from scipy.sparse import csr_array, coo_array\n",
    "from scipy.sparse.csgraph import minimum_spanning_tree\n",
    "import sparse\n",
    "import numpy as np\n",
    "from affinis.associations import ochiai, _spanning_forests_obs_bootstrap\n",
    "from tqdm import tqdm \n",
    "\n",
    "from mendr.experiments import (\n",
    "    load_graph, _datasets,_estimators, _metrics,_sq, _dataset_paths\n",
    ")\n",
    "import matplotlib.pyplot as plt\n",
    "%load_ext memray"
   ]
  },
  {
   "cell_type": "code",
   "execution_count": 351,
   "id": "5e40886f-930c-4826-a2c7-b42c184ab46c",
   "metadata": {},
   "outputs": [],
   "source": [
    "from scipy.stats import ecdf\n",
    "\n",
    "def hinton_scatter(A, ax=None): \n",
    "    i,j = A.coords[1]+0.5, A.coords[0]+0.5\n",
    "    ax = ax if ax is not None else plt.gca()\n",
    "    \n",
    "    ax.patch.set_facecolor('gray')\n",
    "    ax.xaxis.set_major_locator(plt.NullLocator())\n",
    "    ax.yaxis.set_major_locator(plt.NullLocator())\n",
    "    ax.set_aspect('equal')\n",
    "    ax.set_xlim(-0.5,A.shape[1]+0.5)\n",
    "    ax.set_ylim(-0.5, A.shape[0]+0.5)\n",
    "    plt.gcf().canvas.draw()\n",
    "\n",
    "    ext = ax.get_window_extent()\n",
    "    base_size = ((ext.width)*(72./plt.gcf().dpi)/(A.shape[1]+2))**2\n",
    "    size = np.abs(A.data)\n",
    "    size = base_size*size/size.max()\n",
    "    color=np.where(A.data>0, 'white', 'black')\n",
    "\n",
    "    ax.scatter(i,j, s=size, c=color, marker='s', linewidth=0)\n",
    "    ax.autoscale_view()\n",
    "    ax.invert_yaxis()\n",
    "\n",
    "    \n",
    "\n",
    "\n",
    "\n",
    "# hinton_scatter(X.T@X)\n",
    "# plt.scatter(\n",
    "# plt.grid(\n",
    "# plt.Axes.set_aspect("
   ]
  },
  {
   "cell_type": "code",
   "execution_count": 352,
   "id": "433224cf-3ffd-41db-8826-3d256570daa7",
   "metadata": {},
   "outputs": [
    {
     "data": {
      "text/plain": [
       "268.9577464788733"
      ]
     },
     "execution_count": 352,
     "metadata": {},
     "output_type": "execute_result"
    },
    {
     "data": {
      "image/png": "[encoded data removed]",
      "text/plain": [
       "<Figure size 800x800 with 1 Axes>"
      ]
     },
     "metadata": {},
     "output_type": "display_data"
    }
   ],
   "source": [
    "plt.figure(figsize=(8,8))\n",
    "exp = load_graph('BL-N030S24')\n",
    "X = exp.activations.to_array()\n",
    "X_sp = csr_array(X.to_scipy_sparse())\n",
    "hinton_scatter(X)\n",
    "# plt.grid()\n",
    "X.density\n",
    "\n",
    "plt.gca().get_window_extent().width\n",
    "# N = 1000\n",
    "# Nx = 2000\n",
    "# node_probs = np.random.rand(N)/4\n",
    "# X = sparse.COO(bernoulli.rvs(node_probs, size=(Nx,N))).astype(bool)\n",
    "# X.sum(axis=0).todense()/Nx, node_probs\n",
    "# _datasets\n",
    "# plt.scatter(X.coords[0], X.coords[1], s=1)\n"
   ]
  },
  {
   "cell_type": "code",
   "execution_count": 378,
   "id": "0acef85c-c57e-4304-bf7d-53acd00fd6db",
   "metadata": {},
   "outputs": [
    {
     "data": {
      "image/png": "[encoded data removed]",
      "text/plain": [
       "<Figure size 640x480 with 1 Axes>"
      ]
     },
     "metadata": {},
     "output_type": "display_data"
    }
   ],
   "source": [
    "# hinton_scatter(X.T@X)\n",
    "(sparse.random((25,25), density=0.3)\n",
    " |> (=> _-_.data.mean())\n",
    " |> hinton_scatter\n",
    ")"
   ]
  },
  {
   "cell_type": "code",
   "execution_count": 377,
   "id": "a2ecdc01-dfc1-404a-9b45-2ea05757d383",
   "metadata": {},
   "outputs": [
    {
     "data": {
      "image/png": "[encoded data removed]",
      "text/plain": [
       "<Figure size 500x500 with 1 Axes>"
      ]
     },
     "metadata": {},
     "output_type": "display_data"
    }
   ],
   "source": [
    "plt.figure(figsize=(5,5))\n",
    "T = minimum_spanning_tree((X.T@X).tocsr())  |> sparse.COO |> (=> np.maximum(_,_.T))#|> (=> _/_.sum(axis=0))|>.sum(axis=0)\n",
    "# plt.figure(figsize=(3,3))\n",
    "# plt.scatter(T.coords[1]/T.shape[1], 1-T.coords[0]/T.shape[0], s=1)\n",
    "# plt.plot(np.linspace(0,1), 1-np.linspace(0,1))\n",
    "# sparse.COO.to\n",
    "hinton_scatter(T)"
   ]
  },
  {
   "cell_type": "code",
   "execution_count": 4,
   "id": "77871212-4e71-466e-9007-5cb6b98a3a05",
   "metadata": {},
   "outputs": [],
   "source": [
    "# X[:,X[0].coords]\n",
    "# X[:,X[1]]\n",
    "# X[:,X[1].coords[0]]\n",
    "# X_sp = csr_array(X.to_scipy_sparse())\n",
    "\n",
    "\n",
    "def subsamp_cos(X, coords): \n",
    "    # print(X[:,coords].T, coords)\n",
    "    return ((X[:,coords].T@X[:,coords]+0.5)/(np.sqrt(np.multiply.outer((cts:=X[:,coords].sum(axis=0)), cts))+1.)).todense()\n",
    "\n",
    "def subsamp_idx(X, D,idx): \n",
    "    coords = X[idx].coords[0]\n",
    "    subD = D[coords].T[coords].T\n",
    "    # return subsamp_cos(X, coords) \n",
    "    return subD\n",
    "# X_sp\n",
    "# subtree_X = subsamp_idx$(X, -np.log(ochiai(X_sp)))..>minimum_spanning_tree\n",
    "# subcos = idx->subsamp_cos(X, X[idx].coords[0])\n",
    "# subcos = subsamp_idx$(X, ochiai(X_sp))"
   ]
  },
  {
   "cell_type": "code",
   "execution_count": 441,
   "id": "af2ba1e7-bb90-429a-9202-37a73470691d",
   "metadata": {},
   "outputs": [
    {
     "name": "stdout",
     "output_type": "stream",
     "text": [
      "The memray extension is already loaded. To reload it, use:\n",
      "  %reload_ext memray\n"
     ]
    }
   ],
   "source": [
    "\n",
    "# %load_ext line_profiler\n",
    "# list(map(subcos..>.shape, range(X.shape[0])))\n",
    "def group_1by0(a):\n",
    "    '''[see source](https://stackoverflow.com/a/43094244)'''\n",
    "    return np.split(a[:,1], np.unique(a[:, 0], return_index=True)[1][1:])\n",
    "\n",
    "# def _onecold(a):\n",
    "#     n = len(a)\n",
    "#     s = a.strides[0]\n",
    "#     strided = np.lib.stride_tricks.as_strided\n",
    "#     b = np.concatenate((a,a[:-1]))\n",
    "#     return strided(b[1:], shape=(n-1,n), strides=(s,s))\n",
    "\n",
    "# def combinations_without_repeat(a):\n",
    "#     '''[see source](https://stackoverflow.com/a/48234170)'''\n",
    "#     n = len(a)\n",
    "#     out = np.empty((n,n-1,2),dtype=a.dtype)\n",
    "#     out[:,:,0] = np.broadcast_to(a[:,None], (n, n-1))\n",
    "#     out.shape = (n-1,n,2)\n",
    "#     out[:,:,1] = _onecold(a)\n",
    "#     out.shape = (-1,2)\n",
    "#     return out  \n",
    "\n",
    "def pairwise_combs_mask(a):\n",
    "    '''https://stackoverflow.com/a/57567014'''\n",
    "    n = len(a)\n",
    "    L = n*(n-1)//2\n",
    "    out = np.empty((L,2),dtype=a.dtype)\n",
    "    m = ~np.tri(len(a),dtype=bool)\n",
    "    out[:,0] = np.broadcast_to(a[:,None],(n,n))[m]\n",
    "    out[:,1] = np.broadcast_to(a,(n,n))[m]\n",
    "    return out\n",
    "\n",
    "def sq_to_linear_triu_idx(n,i,j):\n",
    "    return (n*(n-1)/2) - (n-i)*((n-i)-1)/2 + j - i - 1\n",
    "def sqarr_to_linear_triu_idx(n,ij):\n",
    "    i,j = ij\n",
    "    return sq_to_linear_triu_idx(n,i,j)\n",
    "    \n",
    "def linear_to_sq_triu_idx(n,k):\n",
    "    i = n - 2 - np.floor(np.sqrt(-8*k + 4*n*(n-1)-7)/2.0 - 0.5)\n",
    "    j = k + i + 1 - n*(n-1)/2 + (n-i)*((n-i)-1)/2\n",
    "    return i.astype(int),j.astype(int)\n",
    "\n",
    "def nodelist_to_complete_edgelist(n,u): \n",
    "    return u |> pairwise_combs_mask |> .T |> sqarr_to_linear_triu_idx$(n)\n",
    "\n",
    "def sparseG_to_Eidx(A):\n",
    "    N = A.shape[0]\n",
    "    return A.coords |> sqarr_to_linear_triu_idx$(N)\n",
    "\n",
    "def nodes_to_tree_map(dists,nodes): \n",
    "    N = dists.shape[0]\n",
    "    all_E = nodelist_to_complete_edgelist(N, nodes).astype(int)\n",
    "    tree_E = (\n",
    "        dists[nodes].T[nodes].T \n",
    "        |> minimum_spanning_tree \n",
    "        |> sparse.COO.from_scipy_sparse \n",
    "        |> sparseG_to_Eidx\n",
    "    )\n",
    "    return all_E[tree_E.astype(int)]"
   ]
  },
  {
   "cell_type": "code",
   "execution_count": 442,
   "id": "da38e36a-d6e6-4236-a92d-6cb540fb6cc9",
   "metadata": {},
   "outputs": [],
   "source": [
    "def nodes_to_tree_degrees(dists,nodes): \n",
    "    N = dists.shape[0]\n",
    "    all_E = nodelist_to_complete_edgelist(N, nodes).astype(int)\n",
    "    tree_E = dists[nodes].T[nodes].T |> minimum_spanning_tree |> sparse.COO |> sparseG_to_Eidx\n",
    "    return all_E[tree_E.astype(int)]"
   ]
  },
  {
   "cell_type": "code",
   "execution_count": 443,
   "id": "ae782fb7-b395-482c-999f-212c8794da80",
   "metadata": {},
   "outputs": [
    {
     "data": {
      "text/plain": [
       "<70x30 sparse array of type '<class 'numpy.int64'>'\n",
       "\twith 904 stored elements in COOrdinate format>"
      ]
     },
     "execution_count": 443,
     "metadata": {},
     "output_type": "execute_result"
    }
   ],
   "source": [
    "n_e = sq_to_linear_triu_idx(n:=X.shape[1],n-1,n)|> int\n",
    "n_e\n",
    "\n",
    "(n,n_e)\n",
    "\n",
    "X_sp.tocoo()\n"
   ]
  },
  {
   "cell_type": "code",
   "execution_count": 451,
   "id": "2fc605b2-d641-4d22-8ce2-d9af234f454a",
   "metadata": {},
   "outputs": [],
   "source": [
    "# sparse.COO(X.todense())\n",
    "# X_nodes"
   ]
  },
  {
   "cell_type": "code",
   "execution_count": 446,
   "id": "593bccd7-d3fb-4411-9b2e-71eb6d178dba",
   "metadata": {},
   "outputs": [
    {
     "name": "stdout",
     "output_type": "stream",
     "text": [
      "601 ms ± 19.6 ms per loop (mean ± std. dev. of 7 runs, 1 loop each)\n"
     ]
    }
   ],
   "source": [
    "# %%timeit\n",
    "X_nodes = X.coords.T |> group_1by0\n",
    "dists = -np.log(ochiai(X_sp))\n",
    "subtree_X = nodes_to_tree_map$(dists)\n",
    "%timeit list(parallel_map(subtree_X, X_nodes))"
   ]
  },
  {
   "cell_type": "code",
   "execution_count": 465,
   "id": "62bd5a43-ead6-4274-a3e7-6a610e879cb7",
   "metadata": {},
   "outputs": [
    {
     "data": {
      "text/plain": [
       "<70x30 sparse matrix of type '<class 'numpy.int64'>'\n",
       "\twith 904 stored elements in COOrdinate format>"
      ]
     },
     "execution_count": 465,
     "metadata": {},
     "output_type": "execute_result"
    }
   ],
   "source": [
    "X.to_scipy_sparse()"
   ]
  },
  {
   "cell_type": "code",
   "execution_count": 467,
   "id": "0cfc7ab0-306b-4566-88be-c39edea7743b",
   "metadata": {},
   "outputs": [
    {
     "data": {
      "image/png": "[encoded data removed]",
      "text/plain": [
       "<Figure size 640x480 with 1 Axes>"
      ]
     },
     "metadata": {},
     "output_type": "display_data"
    }
   ],
   "source": [
    "# %%timeit \n",
    "X_nodes = X.coords.T |> group_1by0\n",
    "dists = -np.log(ochiai(X_sp))\n",
    "X_edges = list(map(nodes_to_tree_map$(dists), X_nodes))\n",
    "X_e = sparse.COO(coords=np.vstack(\n",
    "    [np.repeat(np.arange(len(X_edges))[:,None], np.array(map(len,X_edges))),\n",
    "     np.concatenate(X_edges)\n",
    "    ]\n",
    "), data=1, shape=(X.shape[0], X.shape[1]*(X.shape[1]-1)//2))\n",
    "\n",
    "hinton_scatter(X_e)"
   ]
  },
  {
   "cell_type": "code",
   "execution_count": 449,
   "id": "dcc42d31-f3a5-4d96-a1db-33c5a4c8c66c",
   "metadata": {},
   "outputs": [
    {
     "data": {
      "text/plain": [
       "array([[  0,  70],\n",
       "       [  0,  86],\n",
       "       [  0,  92],\n",
       "       ...,\n",
       "       [ 69, 405],\n",
       "       [ 69, 417],\n",
       "       [ 69, 429]])"
      ]
     },
     "execution_count": 449,
     "metadata": {},
     "output_type": "execute_result"
    }
   ],
   "source": [
    "# X.coords.T |> group_1by0 |> parallel_map$(nodelist_to_complete_edgelist$(X.shape[1])) |> .[:10]|> list\n",
    "# X.coords.T |> group_1by0 |> .[0] |> pairwise_combs_mask |> .T\n",
    "(\n",
    "    (np.array([len(a)*[i], a]).T \n",
    "     for  i,a in (\n",
    "         X_nodes|>enumerate..map$(subtree_X)\n",
    "     ))\n",
    "    |> list\n",
    "    |> np.vstack\n",
    "    \n",
    "\n",
    ")"
   ]
  },
  {
   "cell_type": "code",
   "execution_count": 447,
   "id": "5eef581d-449d-4897-8689-0240c760011a",
   "metadata": {
    "scrolled": true
   },
   "outputs": [
    {
     "name": "stdout",
     "output_type": "stream",
     "text": [
      " "
     ]
    },
    {
     "data": {
      "text/plain": [
       "         59588 function calls (59238 primitive calls) in 0.100 seconds\n",
       "\n",
       "   Ordered by: cumulative time\n",
       "\n",
       "   ncalls  tottime  percall  cumtime  percall filename:lineno(function)\n",
       "        1    0.000    0.000    0.100    0.100 {built-in method builtins.exec}\n",
       "        1    0.000    0.000    0.100    0.100 <string>:1(<module>)\n",
       "       70    0.004    0.000    0.100    0.001 <ipython-input-441-d177a913bbf8>:64(nodes_to_tree_map)\n",
       "       70    0.006    0.000    0.048    0.001 _validation.py:12(validate_graph)\n",
       "       70    0.001    0.000    0.024    0.000 core.py:428(from_scipy_sparse)\n",
       "      140    0.002    0.000    0.015    0.000 <string>:217(tail_call_optimized_func)\n",
       "      490    0.006    0.000    0.014    0.000 core.py:2978(__array_finalize__)\n",
       "      140    0.001    0.000    0.013    0.000 _compressed.py:27(__init__)\n",
       "       70    0.001    0.000    0.013    0.000 core.py:2260(masked_values)\n",
       "       70    0.000    0.000    0.012    0.000 _base.py:407(asformat)\n",
       "       70    0.001    0.000    0.012    0.000 _compressed.py:1085(tocoo)\n",
       "       70    0.001    0.000    0.010    0.000 _coo.py:27(__init__)\n",
       "       70    0.001    0.000    0.010    0.000 core.py:198(__init__)\n",
       "      280    0.002    0.000    0.009    0.000 _base.py:1329(_get_index_dtype)\n",
       "      140    0.001    0.000    0.008    0.000 core.py:2808(__new__)\n",
       "       70    0.001    0.000    0.008    0.000 numeric.py:2249(isclose)\n",
       "      140    0.001    0.000    0.007    0.000 core.py:3071(__array_wrap__)\n",
       "  910/700    0.001    0.000    0.007    0.000 {method 'view' of 'numpy.ndarray' objects}\n",
       "       70    0.000    0.000    0.007    0.000 <ipython-input-441-d177a913bbf8>:53(nodelist_to_complete_edgelist)\n",
       "      280    0.004    0.000    0.006    0.000 _sputils.py:149(get_index_dtype)\n",
       "       70    0.002    0.000    0.006    0.000 <ipython-input-441-d177a913bbf8>:27(pairwise_combs_mask)\n",
       "       70    0.002    0.000    0.006    0.000 _coo.py:185(_check)\n",
       "       70    0.000    0.000    0.005    0.000 core.py:8204(asarray)\n",
       "      140    0.002    0.000    0.004    0.000 _compressed.py:127(check_format)\n",
       "       70    0.001    0.000    0.004    0.000 numeric.py:2330(within_tol)\n",
       "      630    0.003    0.000    0.004    0.000 core.py:2952(_update_from)\n",
       "      140    0.000    0.000    0.004    0.000 core.py:3127(view)\n",
       "      140    0.004    0.000    0.004    0.000 <ipython-input-441-d177a913bbf8>:38(sq_to_linear_triu_idx)\n",
       "       70    0.001    0.000    0.004    0.000 core.py:1281(_sort_indices)\n",
       "      700    0.003    0.000    0.003    0.000 {method 'reduce' of 'numpy.ufunc' objects}\n",
       "2100/1960    0.001    0.000    0.003    0.000 {built-in method numpy.array}\n",
       "      210    0.001    0.000    0.003    0.000 _compressed.py:1217(prune)\n",
       "       70    0.000    0.000    0.003    0.000 core.py:1306(_sum_duplicates)\n",
       "      140    0.000    0.000    0.003    0.000 stride_tricks.py:367(broadcast_to)\n",
       "      140    0.001    0.000    0.002    0.000 core.py:930(linear_loc)\n",
       "      140    0.002    0.000    0.002    0.000 stride_tricks.py:340(_broadcast_to)\n",
       "      980    0.001    0.000    0.002    0.000 _base.py:294(nnz)\n",
       "     5811    0.001    0.000    0.002    0.000 {built-in method builtins.isinstance}\n",
       "      560    0.001    0.000    0.002    0.000 core.py:433(_check_fill_value)\n",
       "       70    0.000    0.000    0.002    0.000 twodim_base.py:366(tri)\n",
       "       70    0.000    0.000    0.002    0.000 _compressed.py:1121(eliminate_zeros)\n",
       "      140    0.000    0.000    0.002    0.000 fromnumeric.py:2421(all)\n",
       "      140    0.002    0.000    0.002    0.000 function_base.py:1324(diff)\n",
       "      210    0.001    0.000    0.002    0.000 _sputils.py:296(check_shape)\n",
       "       70    0.000    0.000    0.002    0.000 _sparse_array.py:33(__init__)\n",
       "      140    0.001    0.000    0.002    0.000 fromnumeric.py:71(_wrapreduction)\n",
       "      560    0.002    0.000    0.002    0.000 getlimits.py:685(__init__)\n",
       "      140    0.002    0.000    0.002    0.000 common.py:57(linear_loc)\n",
       "      140    0.000    0.000    0.001    0.000 core.py:3526(mask)\n",
       "       70    0.000    0.000    0.001    0.000 fromnumeric.py:1025(argsort)\n",
       "       70    0.000    0.000    0.001    0.000 fromnumeric.py:53(_wrapfunc)\n",
       "      140    0.001    0.000    0.001    0.000 _ufunc_config.py:33(seterr)\n",
       "      630    0.001    0.000    0.001    0.000 {built-in method builtins.any}\n",
       "      140    0.001    0.000    0.001    0.000 core.py:3445(__setmask__)\n",
       "     6160    0.001    0.000    0.001    0.000 {built-in method builtins.getattr}\n",
       "      140    0.000    0.000    0.001    0.000 _methods.py:47(_sum)\n",
       "       70    0.001    0.000    0.001    0.000 {method 'argsort' of 'numpy.ndarray' objects}\n",
       "      140    0.000    0.000    0.001    0.000 _coo.py:161(_getnnz)\n",
       "       70    0.000    0.000    0.001    0.000 _ufunc_config.py:430(__enter__)\n",
       "      280    0.000    0.000    0.001    0.000 core.py:1329(make_mask_descr)\n",
       "       70    0.000    0.000    0.001    0.000 core.py:3866(compressed)\n",
       "      140    0.000    0.000    0.001    0.000 {method 'max' of 'numpy.ndarray' objects}\n",
       "     1890    0.001    0.000    0.001    0.000 core.py:3417(dtype)\n",
       "       71    0.000    0.000    0.001    0.000 {built-in method builtins.all}\n",
       "      281    0.000    0.000    0.001    0.000 <frozen abc>:117(__instancecheck__)\n",
       "      560    0.001    0.000    0.001    0.000 <frozen importlib._bootstrap>:405(parent)\n",
       "      280    0.001    0.000    0.001    0.000 core.py:1315(_replace_dtype_fields)\n",
       "       70    0.001    0.000    0.001    0.000 {method 'outer' of 'numpy.ufunc' objects}\n",
       "      140    0.000    0.000    0.001    0.000 _methods.py:39(_amax)\n",
       "      210    0.000    0.000    0.001    0.000 _sparse_array.py:37(<genexpr>)\n",
       "      490    0.001    0.000    0.001    0.000 {method 'astype' of 'numpy.ndarray' objects}\n",
       "       70    0.000    0.000    0.001    0.000 core.py:3656(shrink_mask)\n",
       "      281    0.000    0.000    0.001    0.000 {built-in method _abc._abc_instancecheck}\n",
       "      420    0.001    0.000    0.001    0.000 weakref.py:194(get)\n",
       "      140    0.001    0.000    0.001    0.000 <ipython-input-441-d177a913bbf8>:41(sqarr_to_linear_triu_idx)\n",
       "      140    0.000    0.000    0.001    0.000 _methods.py:61(_all)\n",
       "       70    0.000    0.000    0.001    0.000 core.py:1545(_shrink_mask)\n",
       "      140    0.000    0.000    0.001    0.000 {method 'min' of 'numpy.ndarray' objects}\n",
       "     2590    0.001    0.000    0.001    0.000 {method 'update' of 'dict' objects}\n",
       "      840    0.001    0.000    0.001    0.000 _compressed.py:110(_getnnz)\n",
       "       70    0.001    0.000    0.001    0.000 {built-in method scipy.sparse._sparsetools.csr_eliminate_zeros}\n",
       "      420    0.000    0.000    0.001    0.000 _util.py:225(_prune_array)\n",
       "       70    0.000    0.000    0.001    0.000 _matrix.py:12(_coo_container)\n",
       "       70    0.000    0.000    0.001    0.000 numerictypes.py:357(issubdtype)\n",
       "     1050    0.001    0.000    0.001    0.000 core.py:3433(shape)\n",
       "     3851    0.001    0.000    0.001    0.000 {built-in method builtins.len}\n",
       "       70    0.000    0.000    0.001    0.000 _ufunc_config.py:435(__exit__)\n",
       "       70    0.000    0.000    0.000    0.000 {method 'any' of 'numpy.ndarray' objects}\n",
       "      210    0.000    0.000    0.000    0.000 _sputils.py:240(isshape)\n",
       "      770    0.000    0.000    0.000    0.000 core.py:1362(getmask)\n",
       "      210    0.000    0.000    0.000    0.000 _data.py:20(__init__)\n",
       "       70    0.000    0.000    0.000    0.000 {method 'all' of 'numpy.ndarray' objects}\n",
       "      140    0.000    0.000    0.000    0.000 {built-in method builtins.next}\n",
       "      140    0.000    0.000    0.000    0.000 _methods.py:43(_amin)\n",
       "       70    0.000    0.000    0.000    0.000 {method 'all' of 'numpy.generic' objects}\n",
       "      140    0.000    0.000    0.000    0.000 _sputils.py:384(is_pydata_spmatrix)\n",
       "      280    0.000    0.000    0.000    0.000 {method 'copy' of 'numpy.ndarray' objects}\n",
       "      140    0.000    0.000    0.000    0.000 twodim_base.py:33(_min_int)\n",
       "      140    0.000    0.000    0.000    0.000 _ufunc_config.py:132(geterr)\n",
       "       70    0.000    0.000    0.000    0.000 {method 'sum' of 'numpy.ndarray' objects}\n",
       "       70    0.000    0.000    0.000    0.000 _methods.py:55(_any)\n",
       "       70    0.000    0.000    0.000    0.000 contextlib.py:284(helper)\n",
       "       70    0.000    0.000    0.000    0.000 contextlib.py:132(__enter__)\n",
       "      630    0.000    0.000    0.000    0.000 _sputils.py:327(<genexpr>)\n",
       "       70    0.000    0.000    0.000    0.000 contextlib.py:141(__exit__)\n",
       "      140    0.000    0.000    0.000    0.000 _ufunc_config.py:452(_no_nep50_warning)\n",
       "      420    0.000    0.000    0.000    0.000 getlimits.py:696(min)\n",
       "       70    0.000    0.000    0.000    0.000 <ipython-input-441-d177a913bbf8>:58(sparseG_to_Eidx)\n",
       "      140    0.000    0.000    0.000    0.000 core.py:3089(<listcomp>)\n",
       "       70    0.000    0.000    0.000    0.000 {method 'compress' of 'numpy.ndarray' objects}\n",
       "      140    0.000    0.000    0.000    0.000 {built-in method numpy.arange}\n",
       "       70    0.000    0.000    0.000    0.000 _sputils.py:137(getdata)\n",
       "      420    0.000    0.000    0.000    0.000 getlimits.py:709(max)\n",
       "      280    0.000    0.000    0.000    0.000 core.py:1283(_replace_dtype_fields_recursive)\n",
       "      140    0.000    0.000    0.000    0.000 numerictypes.py:283(issubclass_)\n",
       "      140    0.000    0.000    0.000    0.000 {built-in method builtins.abs}\n",
       "      210    0.000    0.000    0.000    0.000 _base.py:115(__init__)\n",
       "      140    0.000    0.000    0.000    0.000 <frozen abc>:121(__subclasscheck__)\n",
       "       70    0.000    0.000    0.000    0.000 contextlib.py:104(__init__)\n",
       "      210    0.000    0.000    0.000    0.000 {built-in method numpy.empty}\n",
       "       70    0.000    0.000    0.000    0.000 _sputils.py:218(isintlike)\n",
       "     1120    0.000    0.000    0.000    0.000 _matrix.py:64(get_shape)\n",
       "      140    0.000    0.000    0.000    0.000 _coo.py:101(row)\n",
       "      560    0.000    0.000    0.000    0.000 {method 'rpartition' of 'str' objects}\n",
       "      420    0.000    0.000    0.000    0.000 _coo.py:164(<genexpr>)\n",
       "      210    0.000    0.000    0.000    0.000 core.py:3516(mask)\n",
       "      280    0.000    0.000    0.000    0.000 _base.py:71(ndim)\n",
       "      280    0.000    0.000    0.000    0.000 {built-in method builtins.max}\n",
       "       70    0.000    0.000    0.000    0.000 _sputils.py:392(convert_pydata_sparse_to_scipy)\n",
       "      210    0.000    0.000    0.000    0.000 _base.py:1513(issparse)\n",
       "       70    0.000    0.000    0.000    0.000 _utils.py:86(_zero_of_dtype)\n",
       "      280    0.000    0.000    0.000    0.000 <string>:209(__init__)\n",
       "      140    0.000    0.000    0.000    0.000 core.py:1424(getmaskarray)\n",
       "      140    0.000    0.000    0.000    0.000 {built-in method _abc._abc_subclasscheck}\n",
       "       70    0.000    0.000    0.000    0.000 _sputils.py:111(getdtype)\n",
       "      840    0.000    0.000    0.000    0.000 {built-in method numpy.asarray}\n",
       "       70    0.000    0.000    0.000    0.000 {method 'view' of 'numpy.generic' objects}\n",
       "      140    0.000    0.000    0.000    0.000 {built-in method numpy.seterrobj}\n",
       "      210    0.000    0.000    0.000    0.000 _coo.py:59(<genexpr>)\n",
       "       70    0.000    0.000    0.000    0.000 {method 'set' of '_contextvars.ContextVar' objects}\n",
       "      140    0.000    0.000    0.000    0.000 fromnumeric.py:72(<dictcomp>)\n",
       "      140    0.000    0.000    0.000    0.000 function_base.py:348(iterable)\n",
       "      210    0.000    0.000    0.000    0.000 _coo.py:198(<genexpr>)\n",
       "       70    0.000    0.000    0.000    0.000 core.py:587(filled)\n",
       "      350    0.000    0.000    0.000    0.000 {built-in method builtins.issubclass}\n",
       "      630    0.000    0.000    0.000    0.000 _sputils.py:336(<genexpr>)\n",
       "      350    0.000    0.000    0.000    0.000 {built-in method numpy.asanyarray}\n",
       "       70    0.000    0.000    0.000    0.000 {built-in method scipy.sparse._sparsetools.expandptr}\n",
       "      420    0.000    0.000    0.000    0.000 _coo.py:168(<genexpr>)\n",
       "      560    0.000    0.000    0.000    0.000 multiarray.py:503(can_cast)\n",
       "      420    0.000    0.000    0.000    0.000 {built-in method builtins.id}\n",
       "      420    0.000    0.000    0.000    0.000 stride_tricks.py:345(<genexpr>)\n",
       "      140    0.000    0.000    0.000    0.000 {built-in method _functools.reduce}\n",
       "      140    0.000    0.000    0.000    0.000 stride_tricks.py:25(_maybe_view_as_subclass)\n",
       "      700    0.000    0.000    0.000    0.000 _csr.py:117(_swap)\n",
       "      280    0.000    0.000    0.000    0.000 {method 'get' of 'dict' objects}\n",
       "      280    0.000    0.000    0.000    0.000 {built-in method numpy.geterrobj}\n",
       "       70    0.000    0.000    0.000    0.000 core.py:3692(_get_data)\n",
       "      420    0.000    0.000    0.000    0.000 {built-in method _operator.index}\n",
       "       70    0.000    0.000    0.000    0.000 core.py:6485(isMaskedArray)\n",
       "       70    0.000    0.000    0.000    0.000 {built-in method numpy.zeros}\n",
       "      210    0.000    0.000    0.000    0.000 {built-in method builtins.hasattr}\n",
       "      210    0.000    0.000    0.000    0.000 _sparse_array.py:40(<genexpr>)\n",
       "      140    0.000    0.000    0.000    0.000 {method 'ravel' of 'numpy.ndarray' objects}\n",
       "      140    0.000    0.000    0.000    0.000 {built-in method numpy.core._multiarray_umath.normalize_axis_index}\n",
       "       70    0.000    0.000    0.000    0.000 {method 'reset' of '_contextvars.ContextVar' objects}\n",
       "       70    0.000    0.000    0.000    0.000 _sputils.py:95(to_native)\n",
       "      140    0.000    0.000    0.000    0.000 {method '__exit__' of 'numpy.nditer' objects}\n",
       "       70    0.000    0.000    0.000    0.000 _ufunc_config.py:426(__init__)\n",
       "        1    0.000    0.000    0.000    0.000 <string>:885(__len__)\n",
       "      140    0.000    0.000    0.000    0.000 {built-in method builtins.iter}\n",
       "      140    0.000    0.000    0.000    0.000 {method 'items' of 'dict' objects}\n",
       "       70    0.000    0.000    0.000    0.000 _base.py:314(format)\n",
       "       70    0.000    0.000    0.000    0.000 fromnumeric.py:3176(ndim)\n",
       "      140    0.000    0.000    0.000    0.000 function_base.py:1320(_diff_dispatcher)\n",
       "      140    0.000    0.000    0.000    0.000 {method 'append' of 'list' objects}\n",
       "      140    0.000    0.000    0.000    0.000 stride_tricks.py:363(_broadcast_to_dispatcher)\n",
       "       70    0.000    0.000    0.000    0.000 _coo.py:117(col)\n",
       "       70    0.000    0.000    0.000    0.000 core.py:548(dtype)\n",
       "      140    0.000    0.000    0.000    0.000 fromnumeric.py:2416(_all_dispatcher)\n",
       "        1    0.000    0.000    0.000    0.000 <string>:869(__new__)\n",
       "        2    0.000    0.000    0.000    0.000 <string>:886(<genexpr>)\n",
       "       70    0.000    0.000    0.000    0.000 _data.py:23(dtype)\n",
       "      140    0.000    0.000    0.000    0.000 multiarray.py:969(ravel_multi_index)\n",
       "       70    0.000    0.000    0.000    0.000 numeric.py:2245(_isclose_dispatcher)\n",
       "       70    0.000    0.000    0.000    0.000 fromnumeric.py:1021(_argsort_dispatcher)\n",
       "       70    0.000    0.000    0.000    0.000 fromnumeric.py:3172(_ndim_dispatcher)\n",
       "       70    0.000    0.000    0.000    0.000 multiarray.py:669(result_type)\n",
       "        1    0.000    0.000    0.000    0.000 {built-in method builtins.min}\n",
       "        2    0.000    0.000    0.000    0.000 <string>:888(<genexpr>)\n",
       "        1    0.000    0.000    0.000    0.000 <string>:896(__iter__)\n",
       "        1    0.000    0.000    0.000    0.000 {built-in method __new__ of type object at 0x55863e5292e0}\n",
       "        1    0.000    0.000    0.000    0.000 {method 'pop' of 'dict' objects}\n",
       "        1    0.000    0.000    0.000    0.000 {method 'disable' of '_lsprof.Profiler' objects}"
      ]
     },
     "metadata": {},
     "output_type": "display_data"
    }
   ],
   "source": [
    "%prun -s cumtime list(map(subtree_X, X_nodes))"
   ]
  },
  {
   "cell_type": "code",
   "execution_count": 448,
   "id": "e263958f-77e6-4542-a0cb-2f8264316147",
   "metadata": {},
   "outputs": [
    {
     "name": "stdout",
     "output_type": "stream",
     "text": [
      "⠋[?25l Calculating high watermark... ━━━━━━━━━━━━━━━━━━━━━━━━━━━━━━━━━━━━━━━━    Calculating high watermark... ━━━━━━━━━━━━━━━━━━━━━━━━━━━━━━━━━━━━━━━━   \n",
      "  ?25l Processing allocation records... ━━━━━━━━━━━━━━━━━━━━━━━━━━━━━━━━   0% -:--:--Processing allocation records... ━━━━━━━━━━━━━━━━━━━━━━━━━━━━━━━━ 100% 0:00:00\n",
      "Results saved to memray-results/tmpc2a4w81h/flamegraph.html\n"
     ]
    },
    {
     "data": {
      "text/html": [
       "\n",
       "        <iframe\n",
       "            width=\"100%\"\n",
       "            height=\"600\"\n",
       "            src=\"memray-results/tmpc2a4w81h/flamegraph.html\"\n",
       "            frameborder=\"0\"\n",
       "            allowfullscreen\n",
       "            \n",
       "        ></iframe>\n",
       "        "
      ],
      "text/plain": [
       "<IPython.lib.display.IFrame at 0x7f55caab0b10>"
      ]
     },
     "metadata": {},
     "output_type": "display_data"
    }
   ],
   "source": [
    "%%memray_flamegraph --native\n",
    "list(map(subtree_X, X_nodes))"
   ]
  },
  {
   "cell_type": "code",
   "execution_count": 10,
   "id": "b31a5eb0-59e6-47c6-a9f6-69b73cb20ec7",
   "metadata": {},
   "outputs": [
    {
     "name": "stdout",
     "output_type": "stream",
     "text": [
      "877 ms ± 12.8 ms per loop (mean ± std. dev. of 7 runs, 1 loop each)\n"
     ]
    }
   ],
   "source": [
    "%%timeit \n",
    "\n",
    "_spanning_forests_obs_bootstrap(X_sp)"
   ]
  },
  {
   "cell_type": "code",
   "execution_count": 11,
   "id": "22289256-0ab0-4910-a976-0d1bf8932fab",
   "metadata": {},
   "outputs": [
    {
     "name": "stdout",
     "output_type": "stream",
     "text": [
      " "
     ]
    },
    {
     "data": {
      "text/plain": [
       "         281189 function calls (280460 primitive calls) in 1.021 seconds\n",
       "\n",
       "   Ordered by: cumulative time\n",
       "\n",
       "   ncalls  tottime  percall  cumtime  percall filename:lineno(function)\n",
       "        1    0.000    0.000    1.021    1.021 {built-in method builtins.exec}\n",
       "        1    0.001    0.001    1.021    1.021 <string>:1(<module>)\n",
       "        1    0.001    0.001    1.020    1.020 associations.py:233(_spanning_forests_obs_bootstrap)\n",
       "        1    0.044    0.044    0.942    0.942 associations.py:240(<listcomp>)\n",
       "      670    0.053    0.000    0.595    0.001 utils.py:40(_get_masked_sq)\n",
       "      671    0.014    0.000    0.494    0.001 _coo.py:27(__init__)\n",
       "      671    0.393    0.001    0.393    0.001 {method 'nonzero' of 'numpy.ndarray' objects}\n",
       "2015/1344    0.013    0.000    0.159    0.000 _compressed.py:27(__init__)\n",
       "      670    0.004    0.000    0.119    0.000 _validation.py:12(validate_graph)\n",
       "      671    0.002    0.000    0.094    0.000 _base.py:407(asformat)\n",
       "      670    0.006    0.000    0.091    0.000 _coo.py:318(tocsr)\n",
       "     2013    0.002    0.000    0.084    0.000 utils.py:18(_sq)\n",
       "     2013    0.013    0.000    0.082    0.000 distance.py:2196(squareform)\n",
       "     3359    0.015    0.000    0.079    0.000 _base.py:1329(_get_index_dtype)\n",
       "      671    0.077    0.000    0.077    0.000 {method 'outer' of 'numpy.ufunc' objects}\n",
       "     3359    0.039    0.000    0.060    0.000 _sputils.py:149(get_index_dtype)\n",
       "      670    0.001    0.000    0.054    0.000 fromnumeric.py:1025(argsort)\n",
       "      670    0.001    0.000    0.053    0.000 fromnumeric.py:53(_wrapfunc)\n",
       "      671    0.016    0.000    0.052    0.000 _coo.py:185(_check)\n",
       "      670    0.051    0.000    0.051    0.000 {method 'argsort' of 'numpy.ndarray' objects}\n",
       "     2015    0.024    0.000    0.047    0.000 _compressed.py:127(check_format)\n",
       "      670    0.006    0.000    0.034    0.000 _coo.py:351(_coo_to_compressed)\n",
       "     2688    0.034    0.000    0.034    0.000 {built-in method numpy.zeros}\n",
       "     2685    0.014    0.000    0.031    0.000 _compressed.py:1217(prune)\n",
       "      670    0.001    0.000    0.028    0.000 _base.py:929(todense)\n",
       "     1342    0.024    0.000    0.024    0.000 {built-in method scipy.spatial._distance_wrap.to_vector_from_squareform_wrap}\n",
       "    12754    0.006    0.000    0.023    0.000 _base.py:294(nnz)\n",
       "      672    0.003    0.000    0.022    0.000 _compressed.py:1098(toarray)\n",
       "      671    0.021    0.000    0.021    0.000 {built-in method scipy.spatial._distance_wrap.to_squareform_from_vector_wrap}\n",
       "      672    0.001    0.000    0.017    0.000 _base.py:1316(_process_toarray_args)\n",
       "     6718    0.015    0.000    0.015    0.000 getlimits.py:685(__init__)\n",
       "      670    0.001    0.000    0.014    0.000 _compressed.py:1121(eliminate_zeros)\n",
       "     2015    0.008    0.000    0.013    0.000 _sputils.py:296(check_shape)\n",
       "     2011    0.005    0.000    0.011    0.000 _coo.py:161(_getnnz)\n",
       "     2685    0.009    0.000    0.009    0.000 {method 'reduce' of 'numpy.ufunc' objects}\n",
       "     6038    0.004    0.000    0.009    0.000 {built-in method builtins.any}\n",
       "     1342    0.001    0.000    0.008    0.000 {method 'max' of 'numpy.ndarray' objects}\n",
       "     8072    0.007    0.000    0.007    0.000 {built-in method numpy.asarray}\n",
       "      670    0.007    0.000    0.007    0.000 {built-in method scipy.sparse._sparsetools.coo_tocsr}\n",
       "     1342    0.001    0.000    0.006    0.000 _methods.py:39(_amax)\n",
       "        1    0.000    0.000    0.006    0.006 associations.py:159(ochiai)\n",
       "    10743    0.006    0.000    0.006    0.000 _compressed.py:110(_getnnz)\n",
       "     4702    0.004    0.000    0.005    0.000 <frozen importlib._bootstrap>:405(parent)\n",
       "     5370    0.004    0.000    0.005    0.000 _util.py:225(_prune_array)\n",
       "      671    0.001    0.000    0.005    0.000 _base.py:229(_ascontainer)\n",
       "     2013    0.001    0.000    0.005    0.000 _coo.py:91(<genexpr>)\n",
       "     1342    0.001    0.000    0.005    0.000 {method 'min' of 'numpy.ndarray' objects}\n",
       "     3354    0.005    0.000    0.005    0.000 {method 'astype' of 'numpy.ndarray' objects}\n",
       "    40979    0.004    0.000    0.004    0.000 {built-in method builtins.len}\n",
       "        1    0.000    0.000    0.004    0.004 associations.py:25(_gram)\n",
       "     2010    0.004    0.000    0.004    0.000 {method 'copy' of 'numpy.ndarray' objects}\n",
       "     2686    0.002    0.000    0.004    0.000 _data.py:20(__init__)\n",
       "        2    0.000    0.000    0.004    0.002 _base.py:568(_matmul_dispatch)\n",
       "        1    0.000    0.000    0.004    0.004 _base.py:691(__matmul__)\n",
       "        1    0.000    0.000    0.004    0.004 _compressed.py:504(_matmul_sparse)\n",
       "     1342    0.001    0.000    0.004    0.000 _methods.py:43(_amin)\n",
       "     2013    0.001    0.000    0.004    0.000 distance.py:126(_copy_array_if_base_present)\n",
       "      670    0.001    0.000    0.004    0.000 _sputils.py:418(asmatrix)\n",
       "      670    0.003    0.000    0.003    0.000 {built-in method scipy.sparse._sparsetools.csr_eliminate_zeros}\n",
       "    14159    0.003    0.000    0.003    0.000 {built-in method builtins.isinstance}\n",
       "     1340    0.002    0.000    0.003    0.000 _sputils.py:384(is_pydata_spmatrix)\n",
       "      670    0.002    0.000    0.003    0.000 _base.py:95(_csr_container)\n",
       "     6045    0.002    0.000    0.003    0.000 _sputils.py:327(<genexpr>)\n",
       "     3359    0.002    0.000    0.002    0.000 getlimits.py:696(min)\n",
       "     2686    0.002    0.000    0.002    0.000 _base.py:115(__init__)\n",
       "     3357    0.002    0.000    0.002    0.000 {built-in method builtins.max}\n",
       "     6033    0.002    0.000    0.002    0.000 _coo.py:164(<genexpr>)\n",
       "      670    0.001    0.000    0.002    0.000 {method 'view' of 'numpy.ndarray' objects}\n",
       "     3359    0.001    0.000    0.002    0.000 _base.py:1513(issparse)\n",
       "      672    0.002    0.000    0.002    0.000 {built-in method scipy.sparse._sparsetools.csr_todense}\n",
       "     1340    0.002    0.000    0.002    0.000 defmatrix.py:168(__array_finalize__)\n",
       "        1    0.002    0.002    0.002    0.002 {built-in method scipy.sparse._sparsetools.csc_matmat}\n",
       "     4702    0.002    0.000    0.002    0.000 {method 'rpartition' of 'str' objects}\n",
       "     3359    0.001    0.000    0.001    0.000 getlimits.py:709(max)\n",
       "     2691    0.001    0.000    0.001    0.000 {built-in method builtins.getattr}\n",
       "        1    0.001    0.001    0.001    0.001 {built-in method scipy.sparse._sparsetools.csc_matmat_maxnnz}\n",
       "      670    0.000    0.000    0.001    0.000 _sputils.py:392(convert_pydata_sparse_to_scipy)\n",
       "     2014    0.001    0.000    0.001    0.000 _base.py:71(ndim)\n",
       "     4032    0.001    0.000    0.001    0.000 {built-in method numpy.array}\n",
       "     2013    0.001    0.000    0.001    0.000 {built-in method numpy.ascontiguousarray}\n",
       "     8040    0.001    0.000    0.001    0.000 _matrix.py:64(get_shape)\n",
       "     6033    0.001    0.000    0.001    0.000 _coo.py:168(<genexpr>)\n",
       "     2013    0.001    0.000    0.001    0.000 _coo.py:198(<genexpr>)\n",
       "    10053    0.001    0.000    0.001    0.000 _csr.py:117(_swap)\n",
       "     6045    0.001    0.000    0.001    0.000 _sputils.py:336(<genexpr>)\n",
       "      677    0.001    0.000    0.001    0.000 {built-in method numpy.empty}\n",
       "     5392    0.001    0.000    0.001    0.000 _base.py:1393(<lambda>)\n",
       "     1344    0.001    0.000    0.001    0.000 _sputils.py:240(isshape)\n",
       "     5381    0.001    0.000    0.001    0.000 multiarray.py:503(can_cast)\n",
       "        1    0.000    0.000    0.001    0.001 _csr.py:58(tocsc)\n",
       "     4026    0.001    0.000    0.001    0.000 {method 'lower' of 'str' objects}\n",
       "     4032    0.001    0.000    0.001    0.000 {built-in method _operator.index}\n",
       "     2687    0.001    0.000    0.001    0.000 _base.py:314(format)\n",
       "      2/1    0.000    0.000    0.000    0.000 function.py:397(__call__)\n",
       "      671    0.000    0.000    0.000    0.000 _sputils.py:95(to_native)\n",
       "     1355    0.000    0.000    0.000    0.000 {method 'get' of 'dict' objects}\n",
       "     1347    0.000    0.000    0.000    0.000 _data.py:23(dtype)\n",
       "        2    0.000    0.000    0.000    0.000 _csr.py:21(transpose)\n",
       "        1    0.000    0.000    0.000    0.000 _compressed.py:596(sum)\n",
       "        1    0.000    0.000    0.000    0.000 _base.py:1063(sum)\n",
       "        1    0.000    0.000    0.000    0.000 {built-in method scipy.sparse._sparsetools.csr_tocsc}\n",
       "      3/1    0.000    0.000    0.000    0.000 function.py:27(_convert)\n",
       "        1    0.000    0.000    0.000    0.000 promotion.py:21(convert)\n",
       "        1    0.000    0.000    0.000    0.000 _base.py:697(__rmatmul__)\n",
       "        1    0.000    0.000    0.000    0.000 _base.py:334(T)\n",
       "        1    0.000    0.000    0.000    0.000 _base.py:673(_rmatmul_dispatch)\n",
       "      674    0.000    0.000    0.000    0.000 {built-in method builtins.issubclass}\n",
       "     12/2    0.000    0.000    0.000    0.000 type.py:158(resolve_type_hint)\n",
       "     1341    0.000    0.000    0.000    0.000 multiarray.py:85(empty_like)\n",
       "        3    0.000    0.000    0.000    0.000 function.py:401(_resolve_method_with_cache)\n",
       "        1    0.000    0.000    0.000    0.000 priors.py:47(_beta_binom_post)\n",
       "        1    0.000    0.000    0.000    0.000 function.py:325(resolve_method)\n",
       "        1    0.000    0.000    0.000    0.000 resolver.py:124(resolve)\n",
       "        1    0.000    0.000    0.000    0.000 resolver.py:148(<listcomp>)\n",
       "        1    0.000    0.000    0.000    0.000 utils.py:13(_outer)\n",
       "        5    0.000    0.000    0.000    0.000 resolver.py:137(check)\n",
       "        5    0.000    0.000    0.000    0.000 signature.py:142(match)\n",
       "      671    0.000    0.000    0.000    0.000 _csr.py:50(tocsr)\n",
       "      670    0.000    0.000    0.000    0.000 fromnumeric.py:1021(_argsort_dispatcher)\n",
       "        6    0.000    0.000    0.000    0.000 _doorcheck.py:171(is_bearable)\n",
       "        1    0.000    0.000    0.000    0.000 priors.py:14(_safe_div)\n",
       "        1    0.000    0.000    0.000    0.000 function.py:445(wrapped_method)\n",
       "        5    0.000    0.000    0.000    0.000 {built-in method builtins.all}\n",
       "        1    0.000    0.000    0.000    0.000 promotion.py:41(_convert)\n",
       "       10    0.000    0.000    0.000    0.000 signature.py:160(<genexpr>)\n",
       "       33    0.000    0.000    0.000    0.000 _array_types.py:309(__hash__)\n",
       "    88/43    0.000    0.000    0.000    0.000 {built-in method builtins.hash}\n",
       "        6    0.000    0.000    0.000    0.000 utilcachecall.py:184(_callable_cached)\n",
       "        6    0.000    0.000    0.000    0.000 type.py:207(<genexpr>)\n",
       "       12    0.000    0.000    0.000    0.000 type.py:137(_hashable)\n",
       "        1    0.000    0.000    0.000    0.000 _compressed.py:477(_matmul_vector)\n",
       "        4    0.000    0.000    0.000    0.000 _sputils.py:213(isscalarlike)\n",
       "        6    0.000    0.000    0.000    0.000 type.py:209(<genexpr>)\n",
       "        3    0.000    0.000    0.000    0.000 _base.py:90(_csc_container)\n",
       "        1    0.000    0.000    0.000    0.000 function.py:434(invoke)\n",
       "        4    0.000    0.000    0.000    0.000 numeric.py:1855(isscalar)\n",
       "        1    0.000    0.000    0.000    0.000 twodim_base.py:158(eye)\n",
       "        1    0.000    0.000    0.000    0.000 {built-in method scipy.sparse._sparsetools.csc_matvec}\n",
       "        8    0.000    0.000    0.000    0.000 typing.py:1673(__hash__)\n",
       "       33    0.000    0.000    0.000    0.000 <string>:2(__hash__)\n",
       "        1    0.000    0.000    0.000    0.000 numeric.py:67(zeros_like)\n",
       "        1    0.000    0.000    0.000    0.000 {method 'sum' of 'numpy.ndarray' objects}\n",
       "        1    0.000    0.000    0.000    0.000 _methods.py:47(_sum)\n",
       "        1    0.000    0.000    0.000    0.000 _sputils.py:273(validateaxis)\n",
       "        2    0.000    0.000    0.000    0.000 <frozen _collections_abc>:428(__new__)\n",
       "        6    0.000    0.000    0.000    0.000 <frozen abc>:117(__instancecheck__)\n",
       "       12    0.000    0.000    0.000    0.000 type.py:114(_is_hint)\n",
       "        1    0.000    0.000    0.000    0.000 functools.py:35(update_wrapper)\n",
       "        1    0.000    0.000    0.000    0.000 numeric.py:136(ones)\n",
       "       33    0.000    0.000    0.000    0.000 _array_types.py:293(_get_props)\n",
       "        1    0.000    0.000    0.000    0.000 numerictypes.py:357(issubdtype)\n",
       "        2    0.000    0.000    0.000    0.000 typing.py:2401(get_args)\n",
       "        6    0.000    0.000    0.000    0.000 {built-in method _abc._abc_instancecheck}\n",
       "        2    0.000    0.000    0.000    0.000 _sputils.py:24(upcast)\n",
       "        2    0.000    0.000    0.000    0.000 numerictypes.py:283(issubclass_)\n",
       "        1    0.000    0.000    0.000    0.000 _sputils.py:204(get_sum_dtype)\n",
       "        5    0.000    0.000    0.000    0.000 signature.py:89(expand_varargs)\n",
       "       18    0.000    0.000    0.000    0.000 _csc.py:142(_swap)\n",
       "        2    0.000    0.000    0.000    0.000 typing.py:2374(get_origin)\n",
       "       16    0.000    0.000    0.000    0.000 typing.py:1662(<genexpr>)\n",
       "        1    0.000    0.000    0.000    0.000 <@beartype(__beartype_tester_0) at 0x7f56454e5bb0>:1(__beartype_tester_0)\n",
       "        2    0.000    0.000    0.000    0.000 typing.py:206(_should_unflatten_callable_args)\n",
       "        8    0.000    0.000    0.000    0.000 typing.py:1661(_value_and_type_iter)\n",
       "       12    0.000    0.000    0.000    0.000 confcls.py:1066(__hash__)\n",
       "        4    0.000    0.000    0.000    0.000 _sputils.py:269(isdense)\n",
       "        1    0.000    0.000    0.000    0.000 {built-in method builtins.hasattr}\n",
       "        1    0.000    0.000    0.000    0.000 <@beartype(__beartype_tester_5) at 0x7f56454e5bb0>:1(__beartype_tester_5)\n",
       "        1    0.000    0.000    0.000    0.000 functools.py:65(wraps)\n",
       "        5    0.000    0.000    0.000    0.000 signature.py:59(has_varargs)\n",
       "        2    0.000    0.000    0.000    0.000 _base.py:75(_shape_as_2d)\n",
       "        1    0.000    0.000    0.000    0.000 _sputils.py:58(upcast_char)\n",
       "        1    0.000    0.000    0.000    0.000 priors.py:31(pseudocount)\n",
       "        1    0.000    0.000    0.000    0.000 {method 'reshape' of 'numpy.ndarray' objects}\n",
       "        2    0.000    0.000    0.000    0.000 {method 'transpose' of 'numpy.ndarray' objects}\n",
       "        1    0.000    0.000    0.000    0.000 function.py:269(_resolve_pending_registrations)\n",
       "        1    0.000    0.000    0.000    0.000 <@beartype(__beartype_tester_2) at 0x55864580b770>:1(__beartype_tester_2)\n",
       "        1    0.000    0.000    0.000    0.000 <@beartype(__beartype_tester_3) at 0x558645b8e1b0>:1(__beartype_tester_3)\n",
       "        1    0.000    0.000    0.000    0.000 _compressed.py:1192(has_sorted_indices)\n",
       "        2    0.000    0.000    0.000    0.000 {built-in method __new__ of type object at 0x55863e5292e0}\n",
       "        1    0.000    0.000    0.000    0.000 <@beartype(__beartype_tester_1) at 0x5586457b38f0>:1(__beartype_tester_1)\n",
       "        1    0.000    0.000    0.000    0.000 <@beartype(__beartype_tester_4) at 0x558645b8eb20>:1(__beartype_tester_4)\n",
       "        5    0.000    0.000    0.000    0.000 {built-in method builtins.setattr}\n",
       "        1    0.000    0.000    0.000    0.000 {method 'ravel' of 'numpy.ndarray' objects}\n",
       "        1    0.000    0.000    0.000    0.000 {method 'disable' of '_lsprof.Profiler' objects}\n",
       "        1    0.000    0.000    0.000    0.000 {method 'update' of 'dict' objects}\n",
       "        2    0.000    0.000    0.000    0.000 multiarray.py:1080(copyto)\n",
       "        1    0.000    0.000    0.000    0.000 resolver.py:151(<genexpr>)\n",
       "        1    0.000    0.000    0.000    0.000 numeric.py:63(_zeros_like_dispatcher)\n",
       "        1    0.000    0.000    0.000    0.000 _csc.py:36(tocsc)"
      ]
     },
     "metadata": {},
     "output_type": "display_data"
    }
   ],
   "source": [
    "%prun -s cumtime _spanning_forests_obs_bootstrap(X_sp)"
   ]
  },
  {
   "cell_type": "code",
   "execution_count": 12,
   "id": "ba57d9e0-9c57-406b-b8a2-91f1f1857318",
   "metadata": {},
   "outputs": [
    {
     "name": "stdout",
     "output_type": "stream",
     "text": [
      "⠋[?25l Calculating high watermark... ━━━━━━━━━━━━━━━━━━━━━━━━━━━━━━━━━━━━━━━━    Calculating high watermark... ━━━━━━━━━━━━━━━━━━━━━━━━━━━━━━━━━━━━━━━━   \n",
      "  ?25l Processing allocation records... ━━━━━━━━━━━━━━━━━━━━━━━━━━━━━━━━   0% -:--:--Processing allocation records... ━━━━━━━━━━━━━━━━━━━━━━━━━━━━━━━━ 100% 0:00:00\n",
      "Results saved to memray-results/tmp84dpwzi6/flamegraph.html\n"
     ]
    },
    {
     "data": {
      "text/html": [
       "\n",
       "        <iframe\n",
       "            width=\"100%\"\n",
       "            height=\"600\"\n",
       "            src=\"memray-results/tmp84dpwzi6/flamegraph.html\"\n",
       "            frameborder=\"0\"\n",
       "            allowfullscreen\n",
       "            \n",
       "        ></iframe>\n",
       "        "
      ],
      "text/plain": [
       "<IPython.lib.display.IFrame at 0x7f56061d7390>"
      ]
     },
     "metadata": {},
     "output_type": "display_data"
    }
   ],
   "source": [
    "%%memray_flamegraph --native\n",
    "\n",
    "_spanning_forests_obs_bootstrap(X_sp)"
   ]
  },
  {
   "cell_type": "code",
   "execution_count": 48,
   "id": "104ea907-3115-4729-bdb4-b4ab171e5581",
   "metadata": {},
   "outputs": [
    {
     "name": "stdout",
     "output_type": "stream",
     "text": [
      "8.78 s ± 203 ms per loop (mean ± std. dev. of 7 runs, 1 loop each)\n"
     ]
    }
   ],
   "source": [
    "%%timeit\n",
    "\n",
    "list(map(subtree_X, range(X.shape[0])))\n",
    "    "
   ]
  },
  {
   "cell_type": "code",
   "execution_count": null,
   "id": "4cd5cb43-13f5-46d9-bc4f-48397c8b0fb5",
   "metadata": {},
   "outputs": [],
   "source": []
  }
 ],
 "metadata": {
  "kernelspec": {
   "display_name": "mendr-coconut",
   "language": "coconut",
   "name": "mendr-coconut"
  },
  "language_info": {
   "codemirror_mode": {
    "name": "ipython",
    "version": 3
   },
   "file_extension": ".coco",
   "mimetype": "text/x-python3",
   "name": "coconut",
   "pygments_lexer": "coconut",
   "version": "3.1.2"
  }
 },
 "nbformat": 4,
 "nbformat_minor": 5
}
